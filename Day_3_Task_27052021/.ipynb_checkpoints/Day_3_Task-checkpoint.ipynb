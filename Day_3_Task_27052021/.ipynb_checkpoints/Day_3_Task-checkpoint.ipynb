{
 "cells": [
  {
   "cell_type": "markdown",
   "metadata": {},
   "source": [
    "## 8. Take 2 numbers and find smallest number."
   ]
  },
  {
   "cell_type": "code",
   "execution_count": 2,
   "metadata": {},
   "outputs": [
    {
     "name": "stdout",
     "output_type": "stream",
     "text": [
      "Insert First Number: 2\n",
      "Insert Second Number: 4\n",
      "2 is the smallest Number\n"
     ]
    }
   ],
   "source": [
    "input_8_1 = int(input('Insert First Number: '))\n",
    "input_8_2 = int(input('Insert Second Number: '))\n",
    "\n",
    "if input_8_1== input_8_2:\n",
    "    print('Both value is same')\n",
    "elif input_8_1<input_8_2:\n",
    "    print(f'{input_8_1} is the smallest Number')\n",
    "else:\n",
    "    print(f'{input_8_1} is the smallest Number')"
   ]
  },
  {
   "cell_type": "markdown",
   "metadata": {},
   "source": [
    "## 9.\tTake a number check if a number is less than 100 or not. If it is less than 100 then check if it is odd or even"
   ]
  },
  {
   "cell_type": "code",
   "execution_count": 6,
   "metadata": {},
   "outputs": [
    {
     "name": "stdout",
     "output_type": "stream",
     "text": [
      "Insert a number: 55\n",
      "55 is less than 100\n",
      "55 is odd number\n"
     ]
    }
   ],
   "source": [
    "input_9 = int(input('Insert a number: '))\n",
    "\n",
    "if input_9 < 100:\n",
    "    print(f'{input_9} is less than 100')\n",
    "else:\n",
    "    print(f'{input_9} is greater than 100')\n",
    "    \n",
    "if input_9 < 100:\n",
    "    if input_9 % 2 == 0:\n",
    "        print(f\"{input_9} is even number\")\n",
    "    else:\n",
    "        print(f\"{input_9} is odd number\")"
   ]
  },
  {
   "cell_type": "markdown",
   "metadata": {},
   "source": [
    "## 10.\tTake a number to print the square of a number if it is less than 10."
   ]
  },
  {
   "cell_type": "code",
   "execution_count": 8,
   "metadata": {},
   "outputs": [
    {
     "name": "stdout",
     "output_type": "stream",
     "text": [
      "Insert a number: 7\n",
      "Square of 7 is 49\n"
     ]
    }
   ],
   "source": [
    "input_10 = int(input('Insert a number: '))\n",
    "addi = input_10*input_10\n",
    "if input_10 < 10:\n",
    "    print(f'Square of {input_10} is {addi}')\n",
    "else:\n",
    "    print(f'{input_10} is greater than 10')"
   ]
  },
  {
   "cell_type": "markdown",
   "metadata": {},
   "source": [
    "## 11.Take a number and check whether it is zero, positive or negative using nested IF…ELSE statement ."
   ]
  },
  {
   "cell_type": "code",
   "execution_count": 12,
   "metadata": {},
   "outputs": [
    {
     "name": "stdout",
     "output_type": "stream",
     "text": [
      "Insert a number: 5\n",
      "5 is a positive number\n"
     ]
    }
   ],
   "source": [
    "input_11 = int(input('Insert a number: '))\n",
    "\n",
    "if input_11 == 0:\n",
    "    print(f'{input_11} is zero')\n",
    "elif input_11 > 0:\n",
    "    print(f'{input_11} is a positive number')\n",
    "else:\n",
    "    print(f'{input_11} is a negative number')"
   ]
  },
  {
   "cell_type": "markdown",
   "metadata": {},
   "source": [
    "## 12.\tTake 3 numbers and find greatest number using nested IF….ELSE statement."
   ]
  },
  {
   "cell_type": "code",
   "execution_count": 16,
   "metadata": {},
   "outputs": [
    {
     "name": "stdout",
     "output_type": "stream",
     "text": [
      "Insert First Number: 1\n",
      "Insert Second Number: 2\n",
      "Insert Third Number: 3\n",
      "The largest number is 3\n"
     ]
    }
   ],
   "source": [
    "input_12_1 = int(input('Insert First Number: '))\n",
    "input_12_2 = int(input('Insert Second Number: '))\n",
    "input_12_3 = int(input('Insert Third Number: '))\n",
    "\n",
    "if (input_12_1 > input_12_2 ) and (input_12_1 > input_12_3):\n",
    "   largest = input_12_1\n",
    "elif (input_12_2 > input_12_1) and (input_12_2 > input_12_3):\n",
    "   largest = input_12_2\n",
    "else:\n",
    "   largest = input_12_3\n",
    " \n",
    "print(\"The largest number is\",largest)"
   ]
  },
  {
   "cell_type": "markdown",
   "metadata": {},
   "source": [
    "## 13.\tTake 3 numbers and find smallest number using logical operator."
   ]
  },
  {
   "cell_type": "code",
   "execution_count": 17,
   "metadata": {},
   "outputs": [
    {
     "name": "stdout",
     "output_type": "stream",
     "text": [
      "Insert First Number: 1\n",
      "Insert Second Number: 2\n",
      "Insert Third Number: 3\n",
      "1  is the smallest\n"
     ]
    }
   ],
   "source": [
    "input_13_1 = int(input('Insert First Number: '))\n",
    "input_13_2 = int(input('Insert Second Number: '))\n",
    "input_13_3 = int(input('Insert Third Number: '))\n",
    "\n",
    "if(input_13_1<=input_13_2 and input_13_1<=input_13_3):   #Compare the first number with the second and third number\n",
    "  print(input_13_1,\" is the smallest\")\n",
    "elif(input_13_2<=input_13_1 and input_13_2<=input_13_3):#Compare the second number with the first and third number\n",
    "  print(input_13_2,\" is the smallest\")\n",
    "else:\n",
    "    print(input_13_3,\" is the smallest\")"
   ]
  },
  {
   "cell_type": "markdown",
   "metadata": {},
   "source": [
    "## 14.\tWrite a program to swap 2 numbers without taking third variable."
   ]
  },
  {
   "cell_type": "code",
   "execution_count": 18,
   "metadata": {},
   "outputs": [
    {
     "name": "stdout",
     "output_type": "stream",
     "text": [
      "Insert First Number: 1\n",
      "Insert Second Number: 2\n",
      "Before swapping: \n",
      "Value of x :  1  and y :  2\n",
      "After swapping: \n",
      "Value of x :  2  and y :  1\n"
     ]
    }
   ],
   "source": [
    "15.\tTake starting number and ending number from the user and print following series.\n",
    "\n",
    "print (\"Before swapping: \")\n",
    "print(\"Value of x : \", input_14_1, \" and y : \", input_14_2)\n",
    "\n",
    "input_14_1, input_14_2 = input_14_2, input_14_1\n",
    "\n",
    "print (\"After swapping: \")\n",
    "print(\"Value of x : \", input_14_1, \" and y : \", input_14_2)"
   ]
  },
  {
   "cell_type": "markdown",
   "metadata": {},
   "source": [
    "## 15.\tTake starting number and ending number from the user and print following series."
   ]
  },
  {
   "cell_type": "code",
   "execution_count": 29,
   "metadata": {},
   "outputs": [
    {
     "name": "stdout",
     "output_type": "stream",
     "text": [
      "Insert First Number: 5\n",
      "Insert Last Number: 15\n",
      "5\n",
      "6\n",
      "7\n",
      "8\n",
      "9\n",
      "10\n",
      "11\n",
      "12\n",
      "13\n",
      "14\n",
      "15\n"
     ]
    }
   ],
   "source": [
    "input_15_1 = int(input('Insert First Number: '))\n",
    "input_15_2 = int(input('Insert Last Number: '))\n",
    "\n",
    "for i in range(input_15_1,input_15_2+1):\n",
    "    print(i)\n",
    "    "
   ]
  },
  {
   "cell_type": "code",
   "execution_count": null,
   "metadata": {},
   "outputs": [],
   "source": []
  }
 ],
 "metadata": {
  "kernelspec": {
   "display_name": "Python 3",
   "language": "python",
   "name": "python3"
  },
  "language_info": {
   "codemirror_mode": {
    "name": "ipython",
    "version": 3
   },
   "file_extension": ".py",
   "mimetype": "text/x-python",
   "name": "python",
   "nbconvert_exporter": "python",
   "pygments_lexer": "ipython3",
   "version": "3.8.5"
  }
 },
 "nbformat": 4,
 "nbformat_minor": 4
}
